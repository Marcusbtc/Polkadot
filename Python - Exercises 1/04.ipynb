{
 "cells": [
  {
   "cell_type": "code",
   "execution_count": 2,
   "metadata": {},
   "outputs": [
    {
     "name": "stdout",
     "output_type": "stream",
     "text": [
      "So the weather is nice\n"
     ]
    }
   ],
   "source": [
    "temperature = int(input(\"What is the current temperature in Celsius? \"))\n",
    "\n",
    "if temperature > 30:\n",
    "    print(\"So the weather is hot\")\n",
    "elif temperature < 15:\n",
    "    print(\"So the weather is cold\")\n",
    "else:\n",
    "    print(\"So the weather is nice\")"
   ]
  }
 ],
 "metadata": {
  "kernelspec": {
   "display_name": "Python 3",
   "language": "python",
   "name": "python3"
  },
  "language_info": {
   "codemirror_mode": {
    "name": "ipython",
    "version": 3
   },
   "file_extension": ".py",
   "mimetype": "text/x-python",
   "name": "python",
   "nbconvert_exporter": "python",
   "pygments_lexer": "ipython3",
   "version": "3.12.3"
  }
 },
 "nbformat": 4,
 "nbformat_minor": 2
}
