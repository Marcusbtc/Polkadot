{
 "cells": [
  {
   "cell_type": "code",
   "execution_count": 1,
   "metadata": {},
   "outputs": [
    {
     "name": "stdout",
     "output_type": "stream",
     "text": [
      "\n",
      " Shopping list:\n",
      "- sugar\n",
      "- rice\n",
      "- \n"
     ]
    }
   ],
   "source": [
    "shopping_list = []\n",
    "\n",
    "while True:\n",
    "    item = input(\"Enter an item to add to the shopping list (or 'end' to finish): \")\n",
    "    if item.lower() == 'end':\n",
    "        break\n",
    "    shopping_list.append(item)\n",
    "\n",
    "print(\"\\n Shopping list:\")\n",
    "for item in shopping_list:\n",
    "    print(\"- \" + item)"
   ]
  }
 ],
 "metadata": {
  "kernelspec": {
   "display_name": "Python 3",
   "language": "python",
   "name": "python3"
  },
  "language_info": {
   "codemirror_mode": {
    "name": "ipython",
    "version": 3
   },
   "file_extension": ".py",
   "mimetype": "text/x-python",
   "name": "python",
   "nbconvert_exporter": "python",
   "pygments_lexer": "ipython3",
   "version": "3.12.3"
  }
 },
 "nbformat": 4,
 "nbformat_minor": 2
}
