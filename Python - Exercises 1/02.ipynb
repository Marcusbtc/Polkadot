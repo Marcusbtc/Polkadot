{
 "cells": [
  {
   "cell_type": "code",
   "execution_count": 1,
   "metadata": {},
   "outputs": [
    {
     "name": "stdout",
     "output_type": "stream",
     "text": [
      "The movie Fast and Furious 3 was released in 08/11/2006.\n"
     ]
    }
   ],
   "source": [
    "movie = input(\"What is your favorite movie? \")\n",
    "\n",
    "year = input(\"In what year was the movie released? \")\n",
    "\n",
    "print(\"The movie \" + movie + \" was released in \" + year + \".\")"
   ]
  }
 ],
 "metadata": {
  "kernelspec": {
   "display_name": "Python 3",
   "language": "python",
   "name": "python3"
  },
  "language_info": {
   "codemirror_mode": {
    "name": "ipython",
    "version": 3
   },
   "file_extension": ".py",
   "mimetype": "text/x-python",
   "name": "python",
   "nbconvert_exporter": "python",
   "pygments_lexer": "ipython3",
   "version": "3.12.3"
  }
 },
 "nbformat": 4,
 "nbformat_minor": 2
}
