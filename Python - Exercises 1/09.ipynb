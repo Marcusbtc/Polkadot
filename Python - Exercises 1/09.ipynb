{
 "cells": [
  {
   "cell_type": "code",
   "execution_count": 2,
   "metadata": {},
   "outputs": [
    {
     "name": "stdout",
     "output_type": "stream",
     "text": [
      "The letter i appears 2 times in the sentence Lost in time.\n"
     ]
    }
   ],
   "source": [
    "sentence = input(\"Enter a sentence: \")\n",
    "letter = input(\"Enter the letter you want to count: \")\n",
    "\n",
    "count = 0\n",
    "for character in sentence:\n",
    "    if character.lower() == letter.lower():\n",
    "        count += 1\n",
    "\n",
    "print(\"The letter \" + letter + \" appears \" + str(count) + \" times in the sentence \" + sentence + \".\")\n"
   ]
  }
 ],
 "metadata": {
  "kernelspec": {
   "display_name": "Python 3",
   "language": "python",
   "name": "python3"
  },
  "language_info": {
   "codemirror_mode": {
    "name": "ipython",
    "version": 3
   },
   "file_extension": ".py",
   "mimetype": "text/x-python",
   "name": "python",
   "nbconvert_exporter": "python",
   "pygments_lexer": "ipython3",
   "version": "3.12.3"
  }
 },
 "nbformat": 4,
 "nbformat_minor": 2
}
